{
  "nbformat": 4,
  "nbformat_minor": 0,
  "metadata": {
    "colab": {
      "provenance": []
    },
    "kernelspec": {
      "name": "python3",
      "display_name": "Python 3"
    },
    "language_info": {
      "name": "python"
    }
  },
  "cells": [
    {
      "cell_type": "markdown",
      "source": [
        "# Theory Questions:"
      ],
      "metadata": {
        "id": "0S95VpKqRIn8"
      }
    },
    {
      "cell_type": "markdown",
      "source": [
        "1. What is the difference between a function and a method in Python?"
      ],
      "metadata": {
        "id": "z7-yG-sSRQ5I"
      }
    },
    {
      "cell_type": "markdown",
      "source": [
        "Ans.  FUNCTION:\n",
        "A function is a block of reusable code that is not attached to any object or class. Fucntions cannot access or modify class attributes. They are independent of classes. In the below example add() is a funtion."
      ],
      "metadata": {
        "id": "zCMrI7GoRWx2"
      }
    },
    {
      "cell_type": "code",
      "source": [
        "def add(a, b):\n",
        "    return a + b\n",
        "\n",
        "result = add(5, 3)\n",
        "print(result)"
      ],
      "metadata": {
        "colab": {
          "base_uri": "https://localhost:8080/"
        },
        "id": "Sbd1flvfRSlz",
        "outputId": "d9ebe5ee-13ac-4a43-ab43-d0e3f5c22d01"
      },
      "execution_count": null,
      "outputs": [
        {
          "output_type": "stream",
          "name": "stdout",
          "text": [
            "8\n"
          ]
        }
      ]
    },
    {
      "cell_type": "markdown",
      "source": [
        "METHOD: A method is a function that is defined inside a class and is called on an object. Methods can access and modify class attributes. They are depenent of classes. In the below example add() is a method of the class calculator.\n"
      ],
      "metadata": {
        "id": "i79Sw7uagfNA"
      }
    },
    {
      "cell_type": "code",
      "source": [
        "class monjo:\n",
        "    def add(d,a,b,):\n",
        "        return a + b\n",
        "\n",
        "calc = monjo()\n",
        "result = calc.add(5, 3)\n",
        "print(result)"
      ],
      "metadata": {
        "colab": {
          "base_uri": "https://localhost:8080/"
        },
        "id": "AW9VOGW-hRjQ",
        "outputId": "4eae9e14-7037-4bf6-80f3-3714eb0d84ec"
      },
      "execution_count": null,
      "outputs": [
        {
          "output_type": "stream",
          "name": "stdout",
          "text": [
            "8\n"
          ]
        }
      ]
    },
    {
      "cell_type": "markdown",
      "source": [
        "2. Explain the concept of function arguments and parameters in Python.\n",
        "\n"
      ],
      "metadata": {
        "id": "ux1VZY4Pinel"
      }
    },
    {
      "cell_type": "markdown",
      "source": [
        "Ans. Functions arguments are the actual values passed to a function when calling it whereas the parameters are variables listed in the function definition."
      ],
      "metadata": {
        "id": "7lpW6_3jjLwv"
      }
    },
    {
      "cell_type": "code",
      "source": [
        "def greet(name):  # 'name' is a parameter\n",
        "    print(\"Hello\",name)\n",
        "greet(\"Monjo\")  #\"alice\" is an argument"
      ],
      "metadata": {
        "colab": {
          "base_uri": "https://localhost:8080/"
        },
        "id": "5ynGjjUDl9qA",
        "outputId": "c29d8970-7883-4a8a-a078-57e1e86b5f04"
      },
      "execution_count": null,
      "outputs": [
        {
          "output_type": "stream",
          "name": "stdout",
          "text": [
            "Hello Monjo\n"
          ]
        }
      ]
    },
    {
      "cell_type": "markdown",
      "source": [
        "3. What are the different ways to define and call a function in Python?"
      ],
      "metadata": {
        "id": "H6mPnwpVmcu1"
      }
    },
    {
      "cell_type": "markdown",
      "source": [
        "Ans. In Python, there are multiple ways to define and call functions."
      ],
      "metadata": {
        "id": "HpP6fDk7mjgl"
      }
    },
    {
      "cell_type": "code",
      "source": [
        "#using def function\n",
        "def greet(name):\n",
        "    print(\"Hello\",name)\n",
        "\n",
        "greet(\"dear\")"
      ],
      "metadata": {
        "colab": {
          "base_uri": "https://localhost:8080/"
        },
        "id": "mjWPbsMBL4DJ",
        "outputId": "c3bf32d1-d48c-4be6-ba48-8ecd131321da"
      },
      "execution_count": null,
      "outputs": [
        {
          "output_type": "stream",
          "name": "stdout",
          "text": [
            "Hello dear\n"
          ]
        }
      ]
    },
    {
      "cell_type": "code",
      "source": [
        "#using default parameters\n",
        "def greet(name=\"baby\"):\n",
        "    print(f\"Hello, {name}\")\n",
        "\n",
        "greet()\n",
        "greet(\"monjo\")"
      ],
      "metadata": {
        "colab": {
          "base_uri": "https://localhost:8080/"
        },
        "id": "6K9jkcMOMFzu",
        "outputId": "163ef86c-681e-4437-d69a-06d87bf26e55"
      },
      "execution_count": null,
      "outputs": [
        {
          "output_type": "stream",
          "name": "stdout",
          "text": [
            "Hello, baby\n",
            "Hello, monjo\n"
          ]
        }
      ]
    },
    {
      "cell_type": "code",
      "source": [
        "#using keyword arguments\n",
        "def data(name, age):\n",
        "    print(f\"{name} is {age} years old.\")\n",
        "\n",
        "data(age=16, name=\"babu\")"
      ],
      "metadata": {
        "colab": {
          "base_uri": "https://localhost:8080/"
        },
        "id": "iOMhbwyiMhOZ",
        "outputId": "46c87cbe-158a-4524-c102-5c58e027d389"
      },
      "execution_count": null,
      "outputs": [
        {
          "output_type": "stream",
          "name": "stdout",
          "text": [
            "babu is 16 years old.\n"
          ]
        }
      ]
    },
    {
      "cell_type": "code",
      "source": [
        "#using variable-length arguments(*args)\n",
        "def add(*args):\n",
        "    return sum(args)\n",
        "\n",
        "print(add(1, 2, 3, 4))"
      ],
      "metadata": {
        "colab": {
          "base_uri": "https://localhost:8080/"
        },
        "id": "WmzwWUqEP21R",
        "outputId": "0f95a85c-d771-4ad2-d75b-1d547a46b36d"
      },
      "execution_count": null,
      "outputs": [
        {
          "output_type": "stream",
          "name": "stdout",
          "text": [
            "10\n"
          ]
        }
      ]
    },
    {
      "cell_type": "markdown",
      "source": [
        "4. What is the purpose of the `return' statement in a Python function?"
      ],
      "metadata": {
        "id": "H_Goo0mZQsNA"
      }
    },
    {
      "cell_type": "markdown",
      "source": [
        "Ans. The return statement is used to send a result back from a function to the place where it was called. It ends the function execution and optionally sends back a value or multiple values."
      ],
      "metadata": {
        "id": "NXYApVp2Q_MN"
      }
    },
    {
      "cell_type": "code",
      "source": [
        "\n",
        "def square(a):\n",
        "    return a*a\n",
        "\n",
        "square(5)"
      ],
      "metadata": {
        "colab": {
          "base_uri": "https://localhost:8080/"
        },
        "id": "AFV31TWHRGkN",
        "outputId": "9cf465c3-9ab1-4f84-cdc4-6170017d8863"
      },
      "execution_count": null,
      "outputs": [
        {
          "output_type": "execute_result",
          "data": {
            "text/plain": [
              "25"
            ]
          },
          "metadata": {},
          "execution_count": 24
        }
      ]
    },
    {
      "cell_type": "markdown",
      "source": [
        "5.  What are iterators in Python and how do they differ from iterables?"
      ],
      "metadata": {
        "id": "zWtKgW7cRWQW"
      }
    },
    {
      "cell_type": "markdown",
      "source": [
        "Ans. An iterable is any Python object you can loop over. whereas an iterator is an object that remembers its position and returns one value at a time when you call next().\n",
        "Examples of iterable: list, tuple, string, set, dict, etc."
      ],
      "metadata": {
        "id": "m_zdbN0GRkwO"
      }
    },
    {
      "cell_type": "code",
      "source": [
        "a = [1, 2, 3]\n",
        "for display in a:  # a is an iterable\n",
        "    print(display)"
      ],
      "metadata": {
        "colab": {
          "base_uri": "https://localhost:8080/"
        },
        "id": "iHJqWLeVRuzm",
        "outputId": "59119626-3752-4d3a-bd63-f82ae35d9e05"
      },
      "execution_count": null,
      "outputs": [
        {
          "output_type": "stream",
          "name": "stdout",
          "text": [
            "1\n",
            "2\n",
            "3\n"
          ]
        }
      ]
    },
    {
      "cell_type": "code",
      "source": [
        "a = [1, 2, 3]\n",
        "b = iter(a)  # Now it's an iterator\n",
        "\n",
        "print(next(b))\n",
        "print(next(b))\n",
        "print(next(b))"
      ],
      "metadata": {
        "colab": {
          "base_uri": "https://localhost:8080/"
        },
        "id": "ctTwB0fmU4pN",
        "outputId": "b5187adc-8065-49c8-87f8-e16d17d46bcc"
      },
      "execution_count": null,
      "outputs": [
        {
          "output_type": "stream",
          "name": "stdout",
          "text": [
            "1\n",
            "2\n",
            "3\n"
          ]
        }
      ]
    },
    {
      "cell_type": "markdown",
      "source": [],
      "metadata": {
        "id": "O312sLIPWXWW"
      }
    },
    {
      "cell_type": "markdown",
      "source": [
        "6. Explain the concept of generators in Python and how they are defined."
      ],
      "metadata": {
        "id": "sepLVdWfWXeY"
      }
    },
    {
      "cell_type": "markdown",
      "source": [
        "Ans. A generator is a special type of function that lets you generate values one at a time using the yield keyword. It’s useful when you want to loop through a large sequence without storing everything in memory.below are the methods by which a generator is defined:-"
      ],
      "metadata": {
        "id": "38nxOhk9byzo"
      }
    },
    {
      "cell_type": "code",
      "source": [
        "# using a function with yield\n",
        "def a():\n",
        "    yield 1\n",
        "    yield 2\n",
        "    yield 3\n",
        "\n",
        "b = a()\n",
        "\n",
        "for x in b:\n",
        "    print(x)"
      ],
      "metadata": {
        "colab": {
          "base_uri": "https://localhost:8080/"
        },
        "id": "NX7k3FiQWkC_",
        "outputId": "c4c2c5e6-1c59-4d12-89a7-ad78730747bb"
      },
      "execution_count": null,
      "outputs": [
        {
          "output_type": "stream",
          "name": "stdout",
          "text": [
            "1\n",
            "2\n",
            "3\n"
          ]
        }
      ]
    },
    {
      "cell_type": "code",
      "source": [
        "#using a generator expression\n",
        "square = (x * x for x in range(6))\n",
        "\n",
        "for a in square:\n",
        "    print(a)"
      ],
      "metadata": {
        "colab": {
          "base_uri": "https://localhost:8080/"
        },
        "id": "E7TJ0dceXfYr",
        "outputId": "17587941-72ef-4903-f505-6e71ae388a47"
      },
      "execution_count": null,
      "outputs": [
        {
          "output_type": "stream",
          "name": "stdout",
          "text": [
            "0\n",
            "1\n",
            "4\n",
            "9\n",
            "16\n",
            "25\n"
          ]
        }
      ]
    },
    {
      "cell_type": "markdown",
      "source": [
        "7. What are the advantages of using generators over regular functions?"
      ],
      "metadata": {
        "id": "iTiy6OrpbUlX"
      }
    },
    {
      "cell_type": "markdown",
      "source": [
        "Ans.  Advantages of Using Generators in Python are:-\n",
        "\n",
        " a. **Memory Efficiency**\n",
        "\n",
        "    -- Generators don’t store all values in memory.\n",
        "\n",
        "    -- They generate values one at a time, as needed.\n"
      ],
      "metadata": {
        "id": "fb1FTUDWd2b6"
      }
    },
    {
      "cell_type": "code",
      "source": [
        "def nos():\n",
        "    for i in range(1000):\n",
        "        yield i                 # Yield one number at a time\n",
        "\n",
        "a= nos()\n",
        "\n",
        "for num in a:\n",
        "    print(num)                  # Print each number\n",
        "    if num >= 9:                # Stop after the first 10 numbers\n",
        "        break"
      ],
      "metadata": {
        "colab": {
          "base_uri": "https://localhost:8080/"
        },
        "id": "KNrm0cCNeBR1",
        "outputId": "7ecf7b9b-4d64-4297-9bf9-9d452a827df1"
      },
      "execution_count": null,
      "outputs": [
        {
          "output_type": "stream",
          "name": "stdout",
          "text": [
            "0\n",
            "1\n",
            "2\n",
            "3\n",
            "4\n",
            "5\n",
            "6\n",
            "7\n",
            "8\n",
            "9\n"
          ]
        }
      ]
    },
    {
      "cell_type": "markdown",
      "source": [
        "b.  **Lazy Evaluation**\n",
        "\n",
        "    -- Generators produce values only when requested.\n",
        "\n",
        "    -- Useful for large datasets or infinite sequences."
      ],
      "metadata": {
        "id": "ZdUQ-4AZlBve"
      }
    },
    {
      "cell_type": "code",
      "source": [
        "gen = (x*x for x in range(10*10))\n",
        "\n",
        "for i in range(10):\n",
        "    print(next(gen))"
      ],
      "metadata": {
        "colab": {
          "base_uri": "https://localhost:8080/"
        },
        "id": "6z4abJzelVzN",
        "outputId": "40d7e3f7-61cd-408e-b592-6e3a3ad8dce9"
      },
      "execution_count": null,
      "outputs": [
        {
          "output_type": "stream",
          "name": "stdout",
          "text": [
            "0\n",
            "1\n",
            "4\n",
            "9\n",
            "16\n",
            "25\n",
            "36\n",
            "49\n",
            "64\n",
            "81\n"
          ]
        }
      ]
    },
    {
      "cell_type": "markdown",
      "source": [
        "8.  What is a lambda function in Python and when is it typically used?\n",
        "\n"
      ],
      "metadata": {
        "id": "LezG2m0VF9m2"
      }
    },
    {
      "cell_type": "markdown",
      "source": [
        "Ans. A lambda function is a small, anonymous function in Python. It is defined using the lambda keyword.They are typically used when you need a simple function that will be used only once, often within another function or as an argument to a higher-order function."
      ],
      "metadata": {
        "id": "J1FXh2OwGJ6G"
      }
    },
    {
      "cell_type": "code",
      "source": [
        "square = lambda x: x * x\n",
        "print(square(5))"
      ],
      "metadata": {
        "colab": {
          "base_uri": "https://localhost:8080/"
        },
        "id": "aKMO4aLNGjbq",
        "outputId": "580508fa-e65e-42f1-b26a-e4a8ea221a24"
      },
      "execution_count": null,
      "outputs": [
        {
          "output_type": "stream",
          "name": "stdout",
          "text": [
            "25\n"
          ]
        }
      ]
    },
    {
      "cell_type": "markdown",
      "source": [
        "9. Explain the purpose and usage of the `map()` function in Python."
      ],
      "metadata": {
        "id": "bCAhA474GzFa"
      }
    },
    {
      "cell_type": "markdown",
      "source": [
        "Ans. The map() function is used to apply a function to every item in an iterable like a list, tuple, etc. and return a new iterator with the results."
      ],
      "metadata": {
        "id": "6IzFAJVUG3Oj"
      }
    },
    {
      "cell_type": "code",
      "source": [
        "nos = [1, 2, 3, 4, 5]\n",
        "square = map(lambda x: x*2, nos)\n",
        "\n",
        "print(list(square))"
      ],
      "metadata": {
        "colab": {
          "base_uri": "https://localhost:8080/"
        },
        "id": "TytN1jm-HhdP",
        "outputId": "f48fec48-a2ef-4156-badf-076adbf3dec7"
      },
      "execution_count": null,
      "outputs": [
        {
          "output_type": "stream",
          "name": "stdout",
          "text": [
            "[2, 4, 6, 8, 10]\n"
          ]
        }
      ]
    },
    {
      "cell_type": "markdown",
      "source": [
        "10. What is the difference between `map()`, `reduce()`, and `filter()` functions in Python?"
      ],
      "metadata": {
        "id": "WlW-2zePHv6S"
      }
    },
    {
      "cell_type": "markdown",
      "source": [
        "Ans.  map() : It transform each item.\n",
        "\n",
        "    Purpose: Applies a function to each element of an iterable.\n",
        "\n",
        "    Result: A new iterable with transformed elements."
      ],
      "metadata": {
        "id": "XqLwbUfBIPpT"
      }
    },
    {
      "cell_type": "code",
      "source": [
        "nos = [1, 2, 3, 4, 5]\n",
        "square = map(lambda x: x*2, nos)\n",
        "\n",
        "print(list(square))"
      ],
      "metadata": {
        "colab": {
          "base_uri": "https://localhost:8080/"
        },
        "id": "FV1ZMZg2IgOY",
        "outputId": "3cc83568-1b6c-4304-9251-d6dec0490d37"
      },
      "execution_count": null,
      "outputs": [
        {
          "output_type": "stream",
          "name": "stdout",
          "text": [
            "[2, 4, 6, 8, 10]\n"
          ]
        }
      ]
    },
    {
      "cell_type": "markdown",
      "source": [
        "c.  reduce() :- It combines all items into one.\n",
        "\n",
        "    Purpose: Repeatedly applies a function to pairs of items, reducing the iterable to a single value.\n",
        "\n",
        "    Requires: Import from functools."
      ],
      "metadata": {
        "id": "uY9QcxWTJjKE"
      }
    },
    {
      "cell_type": "code",
      "source": [
        "from functools import reduce\n",
        "\n",
        "numbers = [1, 2, 3, 4]\n",
        "product = reduce(lambda x, y: x * y, numbers)\n",
        "print(product)"
      ],
      "metadata": {
        "colab": {
          "base_uri": "https://localhost:8080/"
        },
        "id": "o6PApFgVJvEg",
        "outputId": "1a234ac4-a8e8-4f71-a47b-ef8bef7cd100"
      },
      "execution_count": null,
      "outputs": [
        {
          "output_type": "stream",
          "name": "stdout",
          "text": [
            "24\n"
          ]
        }
      ]
    },
    {
      "cell_type": "markdown",
      "source": [
        " c. filter() :- It keeps only matching items.\n",
        "\n",
        "    Purpose: Applies a function that returns True/False to each element.\n",
        "\n",
        "    Result: A new iterable with only the items that return True"
      ],
      "metadata": {
        "id": "YOmJ20b2Ipuh"
      }
    },
    {
      "cell_type": "code",
      "source": [
        "nos = [1, 2, 3, 4, 5, 6]\n",
        "even= filter(lambda x: x % 2 == 0, nos)\n",
        "print(list(even))"
      ],
      "metadata": {
        "colab": {
          "base_uri": "https://localhost:8080/"
        },
        "id": "tFxgB798I01z",
        "outputId": "9e28636f-7539-4eab-def6-2c42876fa107"
      },
      "execution_count": null,
      "outputs": [
        {
          "output_type": "stream",
          "name": "stdout",
          "text": [
            "[2, 4, 6]\n"
          ]
        }
      ]
    },
    {
      "cell_type": "markdown",
      "source": [
        " 11. Using pen & Paper write the internal mechanism for sum operation using  reduce function on this given\n",
        "list:[47,11,42,13];"
      ],
      "metadata": {
        "id": "9-Xw8wA3JONs"
      }
    },
    {
      "cell_type": "code",
      "source": [
        "from functools import reduce\n",
        "\n",
        "reduce(lambda x, y: x + y, [47, 11, 42, 13])"
      ],
      "metadata": {
        "colab": {
          "base_uri": "https://localhost:8080/"
        },
        "id": "siUPTKynJc4m",
        "outputId": "6630e171-a952-439b-c691-456a634c03f2"
      },
      "execution_count": null,
      "outputs": [
        {
          "output_type": "execute_result",
          "data": {
            "text/plain": [
              "113"
            ]
          },
          "metadata": {},
          "execution_count": 6
        }
      ]
    },
    {
      "cell_type": "markdown",
      "source": [
        "![WhatsApp Image 2025-05-19 at 11.52.31_169932a7.jpg](data:image/jpeg;base64,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)"
      ],
      "metadata": {
        "id": "oXE3tHo2LM9K"
      }
    },
    {
      "cell_type": "markdown",
      "source": [
        "# Practical Questions:\n"
      ],
      "metadata": {
        "id": "VA7IEPJBOUuj"
      }
    },
    {
      "cell_type": "markdown",
      "source": [
        "1. Write a Python function that takes a list of numbers as input and returns the sum of all even numbers in the list.\n",
        "\n",
        "\n",
        "\n"
      ],
      "metadata": {
        "id": "5_GXZ_pQOaTh"
      }
    },
    {
      "cell_type": "code",
      "source": [
        " i= [1,2 ,3 ,4 ,5 ,6 ,7 ,8 ,9, 10]\n",
        " def sum(number):\n",
        "    sum = 0\n",
        "\n",
        "    for i in number:\n",
        "        if i % 2 == 0:\n",
        "            sum += i\n",
        "    return sum\n",
        "\n",
        "\n",
        "result = sum(i)\n",
        "print(\"Sum of even number is:\", result)"
      ],
      "metadata": {
        "colab": {
          "base_uri": "https://localhost:8080/"
        },
        "id": "oI4Gi2VzOiyM",
        "outputId": "9151e503-028a-4bc6-d377-b9d40ffeb59e"
      },
      "execution_count": null,
      "outputs": [
        {
          "output_type": "stream",
          "name": "stdout",
          "text": [
            "Sum of even number is: 30\n"
          ]
        }
      ]
    },
    {
      "cell_type": "markdown",
      "source": [
        "2. Create a Python function that accepts a string and returns the reverse of that string."
      ],
      "metadata": {
        "id": "1Cev65qwkAZ6"
      }
    },
    {
      "cell_type": "code",
      "source": [
        "s= \"i love you\"\n",
        "s[::-1]"
      ],
      "metadata": {
        "id": "jkaTmN6lkHWB",
        "colab": {
          "base_uri": "https://localhost:8080/",
          "height": 35
        },
        "outputId": "8c438e69-7682-4ba7-8e9c-7f4050fc5612"
      },
      "execution_count": null,
      "outputs": [
        {
          "output_type": "execute_result",
          "data": {
            "text/plain": [
              "'uoy evol i'"
            ],
            "application/vnd.google.colaboratory.intrinsic+json": {
              "type": "string"
            }
          },
          "metadata": {},
          "execution_count": 25
        }
      ]
    },
    {
      "cell_type": "markdown",
      "source": [
        "3. Implement a Python function that takes a list of integers and returns a new list containing the squares of each number."
      ],
      "metadata": {
        "id": "qbOPQWXfzKLv"
      }
    },
    {
      "cell_type": "code",
      "source": [
        "a = [1, 2, 3, 4, 5]\n",
        "def square(numbers):\n",
        "    return [x ** 2 for x in numbers]\n",
        "    a = [1, 2, 3, 4, 5]\n",
        "squared_list = square(a)\n",
        "print(\"The initial list was:\",a)\n",
        "print(\"The squared list is:\",squared_list)"
      ],
      "metadata": {
        "colab": {
          "base_uri": "https://localhost:8080/"
        },
        "id": "EUOdFeY9zSfk",
        "outputId": "789ed2c7-3147-40cd-b76b-82a137537f8c"
      },
      "execution_count": null,
      "outputs": [
        {
          "output_type": "stream",
          "name": "stdout",
          "text": [
            "The initial list was: [1, 2, 3, 4, 5]\n",
            "The squared list is: [1, 4, 9, 16, 25]\n"
          ]
        }
      ]
    },
    {
      "cell_type": "markdown",
      "source": [
        "4. Write a Python function that checks if a given number is prime or not from 1 to 200."
      ],
      "metadata": {
        "id": "W9tn24PT1IGO"
      }
    },
    {
      "cell_type": "code",
      "source": [
        "def prime(n):\n",
        "    if n <= 1 or n > 200:\n",
        "        return False\n",
        "    for i in range(2, n):\n",
        "        if n % i == 0:\n",
        "            return False\n",
        "    return True\n",
        "\n",
        "print(prime(5))\n",
        "print(prime(10))"
      ],
      "metadata": {
        "colab": {
          "base_uri": "https://localhost:8080/"
        },
        "id": "ja1gsylh1Rf0",
        "outputId": "214377c3-2d87-4813-d0ea-8fe13fcd50c3"
      },
      "execution_count": null,
      "outputs": [
        {
          "output_type": "stream",
          "name": "stdout",
          "text": [
            "True\n",
            "False\n"
          ]
        }
      ]
    },
    {
      "cell_type": "markdown",
      "source": [
        "5. Create an iterator class in Python that generates the Fibonacci sequence up to a specified number of terms.\n"
      ],
      "metadata": {
        "id": "NoYUCkmR4kLd"
      }
    },
    {
      "cell_type": "code",
      "source": [
        "def fibonacci(terms):\n",
        "    a, b = 0,1\n",
        "    for num in range(terms):\n",
        "        yield a\n",
        "        a, b = b, a + b\n",
        "\n",
        "for num in fibonacci(10):\n",
        "    print(num)"
      ],
      "metadata": {
        "colab": {
          "base_uri": "https://localhost:8080/"
        },
        "id": "dAxy3Wgr4pjK",
        "outputId": "adf9665a-3143-45ac-b0cb-dffb09a705c4"
      },
      "execution_count": null,
      "outputs": [
        {
          "output_type": "stream",
          "name": "stdout",
          "text": [
            "0\n",
            "1\n",
            "1\n",
            "2\n",
            "3\n",
            "5\n",
            "8\n",
            "13\n",
            "21\n",
            "34\n"
          ]
        }
      ]
    },
    {
      "cell_type": "markdown",
      "source": [
        "6. Write a generator function in Python that yields the powers of 2 up to a given exponent."
      ],
      "metadata": {
        "id": "H-9srddI6PoT"
      }
    },
    {
      "cell_type": "code",
      "source": [
        "def power(max_expo):\n",
        "    for i in range(max_expo + 1):\n",
        "        yield 2 ** i\n",
        "\n",
        "for value in power(5):\n",
        "    print(value)"
      ],
      "metadata": {
        "colab": {
          "base_uri": "https://localhost:8080/"
        },
        "id": "mf8fXyDw6Vvw",
        "outputId": "416951ea-deb7-4358-ca0b-9f9db4552017"
      },
      "execution_count": null,
      "outputs": [
        {
          "output_type": "stream",
          "name": "stdout",
          "text": [
            "1\n",
            "2\n",
            "4\n",
            "8\n",
            "16\n",
            "32\n"
          ]
        }
      ]
    },
    {
      "cell_type": "markdown",
      "source": [
        "7. Implement a generator function that reads a file line by line and yields each line as a string."
      ],
      "metadata": {
        "id": "yNjxvUv27GAa"
      }
    },
    {
      "cell_type": "code",
      "source": [
        "with open(\"a.txt\", \"w\") as file:\n",
        "    file.write(\"Hello\\njaneman\\nlet's go to Goa\")\n",
        "\n",
        "def read_file_lines(filename):\n",
        "    for line in open(filename):\n",
        "        yield line.strip()\n",
        "\n",
        "for line in read_file_lines(\"a.txt\"):\n",
        "    print(line)"
      ],
      "metadata": {
        "colab": {
          "base_uri": "https://localhost:8080/"
        },
        "id": "Lq85RCt17JZ1",
        "outputId": "c2e02d89-e992-436a-dec7-0b9ddd4ea3ba"
      },
      "execution_count": null,
      "outputs": [
        {
          "output_type": "stream",
          "name": "stdout",
          "text": [
            "Hello\n",
            "janeman\n",
            "let's go to Goa\n"
          ]
        }
      ]
    },
    {
      "cell_type": "markdown",
      "source": [
        "8. Use a lambda function in Python to sort a list of tuples based on the second element of each tuple."
      ],
      "metadata": {
        "id": "6-pCK8yJCDvI"
      }
    },
    {
      "cell_type": "code",
      "source": [
        "a = [(10, 3), (5, 1), (8, 2)]\n",
        "a.sort(key=lambda x: x[1])\n",
        "print(a)"
      ],
      "metadata": {
        "colab": {
          "base_uri": "https://localhost:8080/"
        },
        "id": "m-lLJmxwCHnP",
        "outputId": "314b4785-4896-4ab2-9e51-f8917629b4f7"
      },
      "execution_count": null,
      "outputs": [
        {
          "output_type": "stream",
          "name": "stdout",
          "text": [
            "[(5, 1), (8, 2), (10, 3)]\n"
          ]
        }
      ]
    },
    {
      "cell_type": "markdown",
      "source": [
        "9. Write a Python program that uses `map()` to convert a list of temperatures from Celsius to Fahrenheit."
      ],
      "metadata": {
        "id": "p0ODFB9HCmQR"
      }
    },
    {
      "cell_type": "code",
      "source": [
        "celsius = [0, 10, 20, 30, 40]\n",
        "\n",
        "fahrenheit = list(map(lambda c: (c * 9/5) + 32, celsius))\n",
        "print(fahrenheit)"
      ],
      "metadata": {
        "colab": {
          "base_uri": "https://localhost:8080/"
        },
        "id": "s91V8dZ4CrrX",
        "outputId": "94a7dbe7-9ec1-4356-bd9f-e14368f5308c"
      },
      "execution_count": null,
      "outputs": [
        {
          "output_type": "stream",
          "name": "stdout",
          "text": [
            "[32.0, 50.0, 68.0, 86.0, 104.0]\n"
          ]
        }
      ]
    },
    {
      "cell_type": "markdown",
      "source": [
        "10. Create a Python program that uses `filter()` to remove all the vowels from a given string."
      ],
      "metadata": {
        "id": "v_gVNtnQDAo8"
      }
    },
    {
      "cell_type": "code",
      "source": [
        "s = \"Hello monjo darling\"\n",
        "vowels = \"aeiouAEIOU\"\n",
        "result = \"\"\n",
        "\n",
        "for ch in s:\n",
        "    if ch not in vowels:\n",
        "        result += ch\n",
        "\n",
        "print(result)\n"
      ],
      "metadata": {
        "colab": {
          "base_uri": "https://localhost:8080/"
        },
        "id": "7vLDslxzDD7V",
        "outputId": "83392a64-bffb-4570-ed07-11530ad940a4"
      },
      "execution_count": null,
      "outputs": [
        {
          "output_type": "stream",
          "name": "stdout",
          "text": [
            "Hll mnj drlng\n"
          ]
        }
      ]
    }
  ]
}